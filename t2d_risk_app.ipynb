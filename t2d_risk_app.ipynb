{
 "cells": [
  {
   "cell_type": "markdown",
   "metadata": {},
   "source": [
    "## Build the bot for ADA in Chicago 2025"
   ]
  },
  {
   "cell_type": "code",
   "execution_count": 5,
   "metadata": {},
   "outputs": [
    {
     "name": "stdout",
     "output_type": "stream",
     "text": [
      "Test Accuracy: 0.86\n",
      "✅ Model and scaler saved successfully!\n"
     ]
    }
   ],
   "source": [
    "import pandas as pd\n",
    "from lime_clustering_analysis import LimeClusteringAnalysis\n",
    "from sklearn.model_selection import train_test_split\n",
    "from sklearn.linear_model import LogisticRegression\n",
    "from sklearn.metrics import accuracy_score\n",
    "from sklearn.preprocessing import StandardScaler\n",
    "import pickle\n",
    "import numpy as np\n",
    "import os\n",
    "\n",
    "# 1. Load the dataset\n",
    "data = pd.read_csv('/Users/wang/Library/CloudStorage/Dropbox/000wsd/research/clustering/data/JMDC_T2D.csv', encoding='utf-8')\n",
    "\n",
    "# 2. Preprocess the target variable: map \"T2D\" to 1 and \"Non-T2D\" to 0\n",
    "data['T2D'] = data['T2D'].map({'T2D': 1, 'Non-T2D': 0})\n",
    "\n",
    "# 3. Define the features used by the model.\n",
    "# These feature names must match exactly with the columns in your dataset.\n",
    "features = [\n",
    "    'Fasting_Blood_Glucose', 'HbA1c', 'Systolic_BP', 'Diastolic_BP', 'BMI',\n",
    "    'Triglycerides', 'HDL_Cholesterol', 'LDL_Cholesterol', 'AST(GOT)', 'ALT(GPT)',\n",
    "    'Gamma_GTP', 'eGFR', 'Age', 'Sex'\n",
    "]\n",
    "X = data[features]\n",
    "y = data['T2D']\n",
    "\n",
    "# 4. Standardize the features so that they have zero mean and unit variance.\n",
    "scaler = StandardScaler()\n",
    "X_scaled = scaler.fit_transform(X)\n",
    "\n",
    "# 5. Split the dataset into training and testing sets.\n",
    "X_train, X_test, y_train, y_test = train_test_split(X_scaled, y, test_size=0.2, random_state=42)\n",
    "\n",
    "# 6. Train a Logistic Regression classifier.\n",
    "clf = LogisticRegression(random_state=42, max_iter=1000)  # Increased iterations for convergence\n",
    "clf.fit(X_train, y_train)\n",
    "\n",
    "# 7. Evaluate the model on the test set.\n",
    "y_pred = clf.predict(X_test)\n",
    "accuracy = accuracy_score(y_test, y_pred)\n",
    "print(f\"Test Accuracy: {accuracy:.2f}\")\n",
    "\n",
    "# 8. Save the trained classifier and scaler to disk for production use.\n",
    "with open('logistic_regression.pkl', 'wb') as f:\n",
    "    pickle.dump(clf, f)\n",
    "\n",
    "with open('scaler.pkl', 'wb') as f:\n",
    "    pickle.dump(scaler, f)\n",
    "\n",
    "print(\"✅ Model and scaler saved successfully!\")"
   ]
  },
  {
   "cell_type": "code",
   "execution_count": 6,
   "metadata": {},
   "outputs": [],
   "source": [
    "def get_individual_cluster_mapping(lca_instance):\n",
    "    \"\"\"\n",
    "    Prepares a DataFrame containing '加入者id', LIME-based cluster assignments,\n",
    "    and all other relevant feature columns.\n",
    "\n",
    "    Parameters:\n",
    "        - lca_instance (LimeClusteringAnalysis): An instance of LimeClusteringAnalysis.\n",
    "\n",
    "    Returns:\n",
    "        - pd.DataFrame: DataFrame with '加入者id', 'Cluster_LIME_Ordered', and all features.\n",
    "    \"\"\"\n",
    "    # Ensure LIME cluster assignments exist\n",
    "    if 'Cluster_Original_Ordered' not in lca_instance.lime_importances_df.columns:\n",
    "        print(\"Running `compute_and_order_cluster_risks()` to ensure LIME cluster assignments exist.\")\n",
    "        lca_instance.compute_and_order_cluster_risks()\n",
    "\n",
    "    # Restore individual IDs since they were removed from X_test\n",
    "    X_test_with_id = lca_instance.X_test.copy()\n",
    "    X_test_with_id['加入者id'] = lca_instance.ID_test\n",
    "\n",
    "    # Merge LIME cluster assignments\n",
    "    X_test_with_id['Cluster_LIME_Ordered'] = lca_instance.lime_importances_df['Cluster_Original_Ordered']\n",
    "\n",
    "    # Select columns with IDs, cluster assignments, and features\n",
    "    feature_columns = lca_instance.X_train.columns.tolist()\n",
    "    selected_columns = ['加入者id', 'Cluster_LIME_Ordered'] + feature_columns\n",
    "\n",
    "    return X_test_with_id[selected_columns]"
   ]
  },
  {
   "cell_type": "code",
   "execution_count": 15,
   "metadata": {},
   "outputs": [
    {
     "name": "stdout",
     "output_type": "stream",
     "text": [
      "Test accuracy of logistic model: 0.86\n",
      "LIME importances loaded from /Users/wang/Library/CloudStorage/Dropbox/000wsd/research/clustering/lime_importances_jmdc_sexage_explainall.pkl\n"
     ]
    }
   ],
   "source": [
    "import os\n",
    "# Initialize the LIME clustering analysis\n",
    "lca = LimeClusteringAnalysis(data, \n",
    "                             target_column=\"T2D\", \n",
    "                             explainall=True, \n",
    "                             pca_components=8)\n",
    "\n",
    "# Train logistic regression model (which initializes `scaler`)\n",
    "lca.train_logistic_regression()\n",
    "\n",
    "explainall = True\n",
    "# Path to save the LIME importances\n",
    "if explainall:   \n",
    "    lime_importances_path = '/Users/wang/Library/CloudStorage/Dropbox/000wsd/research/clustering/lime_importances_jmdc_sexage_explainall.pkl'\n",
    "else:\n",
    "    lime_importances_path = '/Users/wang/Library/CloudStorage/Dropbox/000wsd/research/clustering/lime_importances_jmdc_sexage.pkl'\n",
    "\n",
    "# Check if the LIME importances file exists for data\n",
    "if os.path.exists(lime_importances_path):\n",
    "    # Load the saved LIME importances\n",
    "    lca.load_lime_importances(lime_importances_path)\n",
    "else:\n",
    "    # Generate LIME importances for data_jmdc and save them\n",
    "    lca.generate_lime_importances(save_path=lime_importances_path)"
   ]
  },
  {
   "cell_type": "code",
   "execution_count": 16,
   "metadata": {},
   "outputs": [
    {
     "name": "stdout",
     "output_type": "stream",
     "text": [
      "PCA performed and stored.\n"
     ]
    }
   ],
   "source": [
    "lca.perform_pca()"
   ]
  },
  {
   "cell_type": "code",
   "execution_count": 17,
   "metadata": {},
   "outputs": [
    {
     "name": "stdout",
     "output_type": "stream",
     "text": [
      "Clustering performed with 7 clusters and stored.\n"
     ]
    }
   ],
   "source": [
    "lca.perform_clustering(n_clusters=7)"
   ]
  },
  {
   "cell_type": "code",
   "execution_count": 18,
   "metadata": {},
   "outputs": [
    {
     "name": "stdout",
     "output_type": "stream",
     "text": [
      "\n",
      "Cluster labels updated based on T2D risks.\n",
      "T2D risks for centroids and individual data points computed and stored.\n"
     ]
    },
    {
     "data": {
      "text/plain": [
       "(       Fasting_Blood_Glucose     HbA1c  Systolic_BP  Diastolic_BP       BMI  \\\n",
       " 0                  -0.063598 -0.238005     1.520150      1.803728 -1.188497   \n",
       " 1                  -0.494320 -0.238005     0.838954      1.169468 -0.224750   \n",
       " 2                  -0.278959 -0.238005     1.043313     -0.552093 -0.358604   \n",
       " 3                  -0.135385 -0.544486     0.089638     -0.280267 -0.653082   \n",
       " 4                   0.438910  0.221716    -0.387199      0.263384  0.150040   \n",
       " ...                      ...       ...          ...           ...       ...   \n",
       " 19948              -0.135385 -0.238005    -0.455319     -0.733310 -0.760165   \n",
       " 19949               0.079976 -0.084765     1.792629      1.803728 -0.840477   \n",
       " 19950              -0.566107 -0.238005    -2.226429     -1.911220 -1.161726   \n",
       " 19951              -0.925042 -0.238005    -1.204635     -0.914527 -0.144438   \n",
       " 19952              -0.637894  0.068476    -0.046601     -0.189659  0.016186   \n",
       " \n",
       "        Triglycerides  HDL_Cholesterol  LDL_Cholesterol  AST(GOT)  ALT(GPT)  \\\n",
       " 0           2.007249         0.066974        -0.689994  7.318531  2.478810   \n",
       " 1          -0.590142         0.374925         0.184273 -0.475559 -0.558831   \n",
       " 2          -0.965547         0.806058        -0.858122  0.312608 -0.068889   \n",
       " 3          -0.153862         1.114009        -0.488240 -0.037688 -0.754807   \n",
       " 4           3.549450        -1.903917        -1.866891  0.137460  1.057978   \n",
       " ...              ...              ...              ...       ...       ...   \n",
       " 19948       0.028767        -0.733701         1.428421 -0.650707 -0.509836   \n",
       " 19949      -0.681457         0.066974        -0.723619 -0.738281 -0.656819   \n",
       " 19950      -0.316199         0.005383        -0.118358 -0.475559 -0.656819   \n",
       " 19951      -0.346637        -0.179388        -0.454614 -0.913429 -0.901790   \n",
       " 19952       0.292565        -1.595965        -0.353737 -0.300411 -0.068889   \n",
       " \n",
       "        Gamma_GTP      eGFR       Age       Sex  Cluster_LIME_Ordered  \\\n",
       " 0      -0.293208  1.775654  0.649019  0.310644                     5   \n",
       " 1      -0.497871 -0.426184  0.351740  0.310644                     1   \n",
       " 2      -0.354607 -0.314636  1.279611  0.310644                     2   \n",
       " 3       0.586844 -0.449614 -1.531027  0.310644                     1   \n",
       " 4      -0.129477 -0.037766  0.757121  0.310644                     6   \n",
       " ...          ...       ...       ...       ...                   ...   \n",
       " 19948  -0.559270  0.789855  0.279673  0.310644                     0   \n",
       " 19949  -0.416006 -0.189539  0.234630  0.310644                     5   \n",
       " 19950  -0.416006 -0.198235  0.802163  0.310644                     0   \n",
       " 19951  -0.395540 -3.778392  0.802163  0.310644                     0   \n",
       " 19952  -0.559270 -0.245668  0.991341  0.310644                     0   \n",
       " \n",
       "        Cluster_PCA_Ordered  Cluster_Features_Ordered  \n",
       " 0                        4                         5  \n",
       " 1                        3                         3  \n",
       " 2                        4                         3  \n",
       " 3                        1                         0  \n",
       " 4                        6                         4  \n",
       " ...                    ...                       ...  \n",
       " 19948                    0                         2  \n",
       " 19949                    3                         3  \n",
       " 19950                    0                         2  \n",
       " 19951                    0                         2  \n",
       " 19952                    0                         2  \n",
       " \n",
       " [19953 rows x 17 columns],\n",
       " {4: 0, 3: 1, 0: 2, 2: 3, 6: 4, 1: 5, 5: 6},\n",
       " {4: 0, 3: 1, 0: 2, 2: 3, 6: 4, 5: 5, 1: 6},\n",
       " {2: 0, 5: 1, 3: 2, 0: 3, 1: 4, 6: 5, 4: 6})"
      ]
     },
     "execution_count": 18,
     "metadata": {},
     "output_type": "execute_result"
    }
   ],
   "source": [
    "lca.compute_and_order_cluster_risks()"
   ]
  },
  {
   "cell_type": "code",
   "execution_count": 19,
   "metadata": {},
   "outputs": [],
   "source": [
    "# Get the cluster mapping\n",
    "clustered_df = get_individual_cluster_mapping(lca)"
   ]
  },
  {
   "cell_type": "code",
   "execution_count": 20,
   "metadata": {},
   "outputs": [
    {
     "name": "stdout",
     "output_type": "stream",
     "text": [
      "        加入者id  Cluster_LIME_Ordered  Fasting_Blood_Glucose  HbA1c  \\\n",
      "0  M000000502                     5                   99.0    5.5   \n",
      "1  M000000688                     1                   93.0    5.5   \n",
      "2  M000000827                     2                   96.0    5.5   \n",
      "3  M000001396                     1                   98.0    5.3   \n",
      "4  M000001463                     6                  106.0    5.8   \n",
      "\n",
      "   Systolic_BP  Diastolic_BP   BMI  Triglycerides  HDL_Cholesterol  \\\n",
      "0        149.0          99.0  19.6          327.0             62.0   \n",
      "1        139.0          92.0  23.2           71.0             67.0   \n",
      "2        142.0          73.0  22.7           34.0             74.0   \n",
      "3        128.0          76.0  21.6          114.0             79.0   \n",
      "4        121.0          82.0  24.6          479.0             30.0   \n",
      "\n",
      "   LDL_Cholesterol  AST(GOT)  ALT(GPT)  Gamma_GTP       eGFR        Age  Sex  \n",
      "0            103.0     107.0      78.0       29.0  97.354570  57.083333    1  \n",
      "1            129.0      18.0      16.0       19.0  69.166593  54.333333    1  \n",
      "2             98.0      27.0      26.0       26.0  70.594630  62.916667    1  \n",
      "3            109.0      23.0      12.0       72.0  68.866637  36.916667    1  \n",
      "4             68.0      25.0      49.0       37.0  74.139134  58.083333    1  \n"
     ]
    }
   ],
   "source": [
    "# Display the first few rows\n",
    "print(clustered_df.head())"
   ]
  },
  {
   "cell_type": "code",
   "execution_count": 21,
   "metadata": {},
   "outputs": [],
   "source": [
    "# Save the clustered data to a CSV file for reference in the app\n",
    "clustered_df.to_csv(\"cluster_mapping.csv\", index=False)"
   ]
  },
  {
   "cell_type": "markdown",
   "metadata": {},
   "source": [
    "AttributeError: 'LimeClusteringAnalysis' object has no attribute 'visualize_specified_diseases_stacked_over_clusters'"
   ]
  },
  {
   "cell_type": "code",
   "execution_count": null,
   "metadata": {},
   "outputs": [],
   "source": [
    "import pandas as pd\n",
    "\n",
    "# Define the cluster labels and metabolic disease names\n",
    "clusters = list(range(7))\n",
    "metabolic_diseases = [\n",
    "    'Angina pectoris', 'Cerebral infarction', 'Diabetic nephropathy', 'Diabetic retinopathy',\n",
    "    'Hyperlipidemia', 'Hypertention', 'Hyperuricemia', 'Liver dysfunction', \n",
    "    'Myocardial infarction', 'Type 2 diabetes'\n",
    "]\n",
    "\n",
    "# Define the relative frequencies for each disease in each cluster\n",
    "data = [\n",
    "    [0.130283, 0.073699, 0.021656, 0.020957, 0.280126, 0.099546, 0.060077, 0.222145, 0.057981, 0.097800],\n",
    "    [0.157262, 0.080173, 0.040395, 0.038853, 0.224175, 0.205365, 0.088807, 0.232192, 0.079556, 0.117175],\n",
    "    [0.149978, 0.083953, 0.029952, 0.030826, 0.330127, 0.235899, 0.112156, 0.252514, 0.074115, 0.100568],\n",
    "    [0.197802, 0.102157, 0.052503, 0.046398, 0.406593, 0.556777, 0.178673, 0.289784, 0.095645, 0.148148],\n",
    "    [0.190981, 0.103006, 0.056145, 0.050840, 0.477896, 0.385942, 0.225464, 0.305482, 0.090186, 0.170203],\n",
    "    [0.192355, 0.090423, 0.079737, 0.069051, 0.433621, 0.432799, 0.216605, 0.450062, 0.098233, 0.195643],\n",
    "    [0.190948, 0.085337, 0.074493, 0.066007, 0.545969, 0.394625, 0.261198, 0.463932, 0.102782, 0.202735]\n",
    "]\n",
    "\n",
    "# Create the DataFrame\n",
    "df_clusters_diseases = pd.DataFrame(data, index=clusters, columns=metabolic_diseases)\n",
    "df_clusters_diseases"
   ]
  },
  {
   "cell_type": "markdown",
   "metadata": {},
   "source": [
    "### **Analysis of Health Risks for Each Cluster Based on Metabolic Disease Prevalence**\n",
    "\n",
    "The table provides the relative frequencies of ten metabolic diseases across seven ordered clusters. Since the clusters represent increasing risk profiles (from *Healthy* to *Severe Obesity*), we analyze how the prevalence of these diseases changes across clusters.\n",
    "\n",
    "#### **1. Cluster-wise Health Risk Analysis**\n",
    "- **Cluster 0 (Healthy)**  \n",
    "  - This group has the lowest prevalence of Type 2 Diabetes (9.78%), hypertension (9.95%), and diabetic complications.\n",
    "  - Hyperlipidemia is relatively common (28.01%), suggesting potential early-stage metabolic concerns.\n",
    "\n",
    "- **Cluster 1 (Early Imbalance)**  \n",
    "  - Moderate increases in all disease frequencies, particularly hypertension (20.54%), suggesting early cardiovascular risk.\n",
    "  - Type 2 Diabetes risk increases slightly (11.72%).\n",
    "\n",
    "- **Cluster 2 (Overweight Mild)**  \n",
    "  - Higher prevalence of metabolic issues: hyperlipidemia (33.01%) and hypertension (23.59%).\n",
    "  - Slightly higher rates of diabetic nephropathy and retinopathy than Cluster 1.\n",
    "\n",
    "- **Cluster 3 (Hypertensive Liver)**  \n",
    "  - A **major jump** in hypertension (55.67%), indicating severe blood pressure issues.\n",
    "  - Hyperlipidemia reaches 40.66%, and Type 2 Diabetes is now at 14.81%.\n",
    "  - Liver dysfunction is significantly higher (28.97%), suggesting fatty liver disease.\n",
    "\n",
    "- **Cluster 4 (Obese Metabolic)**  \n",
    "  - Hypertension decreases slightly (38.59%) but remains high.\n",
    "  - Hyperlipidemia further increases (47.79%), showing worsening metabolic health.\n",
    "  - Type 2 Diabetes prevalence reaches 17.02%, and diabetic complications become more frequent.\n",
    "\n",
    "- **Cluster 5 (Severe Metabolic)**  \n",
    "  - A further increase in **diabetic nephropathy (7.97%)** and **diabetic retinopathy (6.90%)**, suggesting more individuals with advanced diabetes.\n",
    "  - Liver dysfunction surges (45.01%), indicating **high prevalence of fatty liver disease**.\n",
    "  - Type 2 Diabetes reaches 19.56%, and hypertension remains high (43.27%).\n",
    "\n",
    "- **Cluster 6 (Severe Obesity)**  \n",
    "  - **The highest metabolic risk** group, with:\n",
    "    - **54.60% hyperlipidemia**, **39.46% hypertension**, **20.27% Type 2 Diabetes**.\n",
    "    - **26.12% hyperuricemia**, suggesting a high prevalence of gout and kidney-related metabolic issues.\n",
    "    - **46.39% liver dysfunction**, possibly due to obesity-related liver disease.\n",
    "  - **All diseases are at their highest prevalence**, indicating a **severe metabolic syndrome profile**.\n",
    "\n",
    "---\n",
    "\n",
    "### **2. Modifications to Personalized Health Advice Based on Cluster Assignment**\n",
    "\n",
    "The LLM-generated medical advice should reflect these findings by providing **cluster-specific recommendations**.\n",
    "\n",
    "#### **Revised LLM Prompt**\n",
    "Modify the **personalized advice** section to include specific risk factors based on cluster assignment:\n",
    "\n",
    "```python\n",
    "openai.api_key = os.getenv(\"OPENAI_API_KEY\")\n",
    "if openai.api_key is None:\n",
    "    st.error(\"OPENAI_API_KEY is not set in the environment!\")\n",
    "else:\n",
    "    cluster_risks = {\n",
    "        0: \"Your metabolic health is currently in a good range, but maintaining a balanced diet and regular exercise will help sustain this condition.\",\n",
    "        1: \"You have mild metabolic imbalances, especially in blood pressure and cholesterol. A focus on early lifestyle changes, such as improving diet quality and increasing physical activity, can prevent further risks.\",\n",
    "        2: \"You show signs of metabolic stress, with elevated cholesterol and mild diabetic risk. Consider working on weight management and regular health monitoring to prevent progression.\",\n",
    "        3: \"Hypertension and liver function issues are becoming significant. Reducing sodium intake, moderating alcohol consumption, and regular exercise are crucial for preventing cardiovascular complications.\",\n",
    "        4: \"Obesity-related metabolic issues are evident, with increased risk of Type 2 Diabetes and heart disease. Prioritizing structured physical activity, fiber-rich diets, and weight management is necessary.\",\n",
    "        5: \"Severe metabolic concerns, including liver dysfunction and diabetic complications, suggest a need for immediate intervention. Work closely with healthcare providers to manage blood sugar, liver health, and blood pressure.\",\n",
    "        6: \"Your metabolic risk is at its highest, with very high chances of severe obesity-related complications. Intensive lifestyle changes and medical management are essential to prevent serious health outcomes.\"\n",
    "    }\n",
    "\n",
    "    user_risk_advice = cluster_risks[int(user_cluster)]\n",
    "\n",
    "    prompt = f\"\"\"\n",
    "    You are a medical expert specializing in diabetes prevention. A user has an estimated Type 2 Diabetes risk probability of {risk_probability:.2f}.\n",
    "    They belong to Cluster {user_cluster} - **{user_cluster_name}**, which represents individuals with similar health characteristics.\n",
    "\n",
    "    **Cluster {user_cluster} - {user_cluster_name} Profile:**\n",
    "    - {user_risk_advice}\n",
    "\n",
    "    Provide clear, concise, and evidence-based medical advice tailored to their risk level.\n",
    "    Prioritize **practical** recommendations for **diet, exercise, and medical follow-ups**.\n",
    "    \"\"\"\n",
    "\n",
    "    response = openai.chat.completions.create(\n",
    "        model=\"gpt-4\",\n",
    "        messages=[{\"role\": \"user\", \"content\": prompt}],\n",
    "        temperature=0.7\n",
    "    )\n",
    "    st.subheader(\"Personalized Health Advice\")\n",
    "    st.write(response.choices[0].message.content.strip())\n",
    "```\n",
    "\n",
    "---\n",
    "\n",
    "### **Key Changes in the Advice Generation**\n",
    "1. **Each cluster has a predefined risk message**, dynamically inserted into the LLM prompt.\n",
    "2. The AI provides **tailored, cluster-specific** recommendations (e.g., for Cluster 6, more urgent lifestyle changes).\n",
    "3. The structure ensures **practical** suggestions focused on **diet, exercise, and medical monitoring**.\n",
    "\n",
    "This update **incorporates the disease prevalence data directly** into the AI-generated recommendations, making the advice **more personalized and actionable**."
   ]
  }
 ],
 "metadata": {
  "kernelspec": {
   "display_name": "ds_bot",
   "language": "python",
   "name": "python3"
  },
  "language_info": {
   "codemirror_mode": {
    "name": "ipython",
    "version": 3
   },
   "file_extension": ".py",
   "mimetype": "text/x-python",
   "name": "python",
   "nbconvert_exporter": "python",
   "pygments_lexer": "ipython3",
   "version": "3.9.21"
  }
 },
 "nbformat": 4,
 "nbformat_minor": 2
}
